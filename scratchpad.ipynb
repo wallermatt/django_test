{
 "cells": [
  {
   "cell_type": "code",
   "execution_count": 2,
   "metadata": {},
   "outputs": [],
   "source": [
    "import boto3\n",
    "\n",
    "client = boto3.client('secretsmanager')"
   ]
  },
  {
   "cell_type": "code",
   "execution_count": 12,
   "metadata": {},
   "outputs": [
    {
     "name": "stdout",
     "output_type": "stream",
     "text": [
      "dict_keys(['ARN', 'Name', 'VersionId', 'SecretString', 'VersionStages', 'CreatedDate', 'ResponseMetadata'])\n",
      "{\n",
      "  \"db_host\": \"mirror-staging-mirror.cuw7frnyz7b7.eu-west-2.rds.amazonaws.com\",\n",
      "  \"db_password\": \"postgres\",\n",
      "  \"db_user\": \"postgres\",\n",
      "  \"secret_key\": \"django-insecure-3)-$vx*_3yv!_0$pzqt%yeq*+a2(=2mz1lf%$(ant=m*+8peho\"\n",
      "}\n",
      "<class 'str'>\n"
     ]
    }
   ],
   "source": [
    "#client.list_secrets()\n",
    "\n",
    "get_secret_value_response = client.get_secret_value(\n",
    "            SecretId=\"mirror-admin-staging\"\n",
    ")\n",
    "\n",
    "print(get_secret_value_response.keys())\n",
    "print(get_secret_value_response['SecretString'])\n",
    "\n",
    "print(type(get_secret_value_response['SecretString']))\n",
    "\n",
    "secret_string = get_secret_value_response['SecretString']"
   ]
  },
  {
   "cell_type": "code",
   "execution_count": 13,
   "metadata": {},
   "outputs": [
    {
     "name": "stdout",
     "output_type": "stream",
     "text": [
      "{'db_host': 'mirror-staging-mirror.cuw7frnyz7b7.eu-west-2.rds.amazonaws.com', 'db_password': 'postgres', 'db_user': 'postgres', 'secret_key': 'django-insecure-3)-$vx*_3yv!_0$pzqt%yeq*+a2(=2mz1lf%$(ant=m*+8peho'}\n",
      "mirror-staging-mirror.cuw7frnyz7b7.eu-west-2.rds.amazonaws.com\n"
     ]
    }
   ],
   "source": [
    "import json\n",
    "\n",
    "secret_dict = json.loads(secret_string)\n",
    "print(secret_dict)\n",
    "print(secret_dict['db_host'])"
   ]
  },
  {
   "cell_type": "code",
   "execution_count": null,
   "metadata": {},
   "outputs": [],
   "source": [
    "#54dd-mirror-staging-documents\n",
    "#dda_cl0kw7isy003s01mbkzs7auhr_modern-slavery-statement.pdf.pdf\n",
    "\n",
    "import boto3\n",
    "from PyPDF2 import PdfFileReader\n",
    "from io import BytesIO\n",
    "\n",
    "bucket_name =\"pdf-forms-bucket\"\n",
    "item_name = \"form.pdf\"\n",
    "\n",
    "\n",
    "s3 = boto3.resource('s3')\n",
    "obj = s3.Object('54dd-mirror-staging-documents', 'dda_cl0kw7isy003s01mbkzs7auhr_modern-slavery-statement.pdf.pdf')\n",
    "fs = obj.get()['Body'].read()"
   ]
  }
 ],
 "metadata": {
  "interpreter": {
   "hash": "ae30b7fb8ae9530d62f8836402b37df12660f5bd533a031c043921a57a467f73"
  },
  "kernelspec": {
   "display_name": "Python 3.6.9 ('django')",
   "language": "python",
   "name": "python3"
  },
  "language_info": {
   "codemirror_mode": {
    "name": "ipython",
    "version": 3
   },
   "file_extension": ".py",
   "mimetype": "text/x-python",
   "name": "python",
   "nbconvert_exporter": "python",
   "pygments_lexer": "ipython3",
   "version": "3.6.9"
  },
  "orig_nbformat": 4
 },
 "nbformat": 4,
 "nbformat_minor": 2
}
